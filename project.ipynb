{
 "cells": [
  {
   "cell_type": "markdown",
   "id": "bdf63289-4249-49ba-a599-c0b7ea8d5d18",
   "metadata": {},
   "source": [
    "# Analyse the flight ticket price"
   ]
  },
  {
   "cell_type": "markdown",
   "id": "a55028ef-19eb-4604-a9bc-65b2a176465e",
   "metadata": {},
   "source": [
    "### Introduction"
   ]
  },
  {
   "cell_type": "markdown",
   "id": "44b4f958-6a05-49d2-80ec-cb2e7d2696ab",
   "metadata": {},
   "source": [
    "* The objective of the study is to analyse the flight booking dataset obtained from “Ease My Trip” website. 'Easemytrip' is an internet platform for booking flight tickets, and hence a platform that potential passengers use to buy tickets. A thorough study of the data will aid in the discovery of valuable insights that will be of enormous value to passengers."
   ]
  },
  {
   "cell_type": "markdown",
   "id": "afb5491f-5063-4dc6-a3ca-e1daec980ebb",
   "metadata": {},
   "source": [
    "### Problem statement"
   ]
  },
  {
   "cell_type": "markdown",
   "id": "5f9c5ba6-27d1-49d1-aedb-2ed10df2944d",
   "metadata": {},
   "source": [
    "* We have sample data listing flight tickets price. We have to find or analyze the flight tickets price vary on any column or not and if vary then which columns are more responsible for that."
   ]
  },
  {
   "cell_type": "markdown",
   "id": "f13819e2-5e54-4ab9-9cbd-d04f3b75aea5",
   "metadata": {},
   "source": [
    "### Source of dataset"
   ]
  },
  {
   "cell_type": "markdown",
   "id": "fb2f00d2-982f-452c-9d6f-70d72c47cffa",
   "metadata": {},
   "source": [
    "* We collected the dataset from kaggle.com"
   ]
  },
  {
   "cell_type": "markdown",
   "id": "87279cd0-d8ba-4f2e-87d0-c278e32093ed",
   "metadata": {},
   "source": [
    "### Size of dataset"
   ]
  },
  {
   "cell_type": "markdown",
   "id": "7e053995-a2cb-4add-b43d-1a91d2f513b3",
   "metadata": {},
   "source": [
    "* Size of airline_dataset is 24.68 MB"
   ]
  },
  {
   "cell_type": "markdown",
   "id": "7a9dc07f-ecf0-4273-89a9-8a0423f5d6c5",
   "metadata": {},
   "source": [
    "### About the dataset"
   ]
  },
  {
   "cell_type": "markdown",
   "id": "837f4765-6c07-4537-8b92-961c777d655c",
   "metadata": {},
   "source": [
    "* Dataset contains information about flight booking from the website Easemytrip for flight travel between India's top 6 metro cities. \n",
    "* Dataset contains 11 columns namely - 'Unnamed: 0', 'airline', 'flight', 'source_city', 'departure_time', 'stops', 'arrival_time','destination_city', 'class', 'duration', 'days_left', 'price'."
   ]
  },
  {
   "cell_type": "markdown",
   "id": "265fb9c2-9e4a-4a34-9c6d-70eb0fef4547",
   "metadata": {},
   "source": [
    "### Liberaries\n",
    "* Numpy\n",
    "* Pandas\n",
    "* Matplotlib\n",
    "* Seaborn\n"
   ]
  },
  {
   "cell_type": "markdown",
   "id": "93d59009-b5ef-4a5b-96f6-93b694f42709",
   "metadata": {},
   "source": [
    "### Overview of the Features"
   ]
  },
  {
   "cell_type": "markdown",
   "id": "7cf54d8c-f751-411b-9014-ea0d763a9ce0",
   "metadata": {},
   "source": [
    "* Airline: The name of the airline company is stored in the airline column. It is a categorical feature having 6 different airlines.\n",
    "* Flight: Flight stores information regarding the plane's flight code. It is a categorical feature.\n",
    "* Source City: City from which the flight takes off. It is a categorical feature having 6 unique cities.\n",
    "* Departure Time: It stores information about the departure time and have 6 unique time labels.\n",
    "* Stops: A categorical feature with 3 distinct values that stores the number of stops between the source and destination cities.\n",
    "* Arrival Time:It has six distinct time labels and keeps information about the arrival time.\n",
    "* Destination City: City where the flight will land. It is a categorical feature having 6 unique cities.\n",
    "* Class: A categorical feature that contains information on seat class; it has two distinct values: Business and Economy.\n",
    "* Duration: A continuous feature that displays the overall amount of time it takes to travel between cities in hours.\n",
    "* Days Left: This is a derived characteristic that is calculated by subtracting the trip date by the booking date.\n",
    "* Price: Target variable stores information of the ticket price."
   ]
  },
  {
   "cell_type": "markdown",
   "id": "f2b455a5-4dac-43bd-a068-c2145b36b763",
   "metadata": {},
   "source": [
    "### Data preprocessing"
   ]
  },
  {
   "cell_type": "markdown",
   "id": "e383fce3-d031-4444-9e48-ee2a3bb04e4f",
   "metadata": {},
   "source": [
    "## Importing required liberaries"
   ]
  },
  {
   "cell_type": "code",
   "execution_count": 2,
   "id": "c45133d9-db38-4dcd-bd2e-9b4a8c7a3dcc",
   "metadata": {},
   "outputs": [],
   "source": [
    "import numpy as np\n",
    "import pandas as pd\n",
    "import matplotlib.pyplot as plt\n",
    "import seaborn as sns"
   ]
  },
  {
   "cell_type": "markdown",
   "id": "c6ac0912-f519-4e82-b4d9-63c2ce62591e",
   "metadata": {
    "tags": []
   },
   "source": [
    "## Loading the dataset"
   ]
  },
  {
   "cell_type": "code",
   "execution_count": 3,
   "id": "8093f6d0-a145-4e1f-bd5e-0deed3497c54",
   "metadata": {},
   "outputs": [],
   "source": [
    "df=pd.read_csv('airline_dataset.csv')"
   ]
  },
  {
   "cell_type": "code",
   "execution_count": 3,
   "id": "a8eb068e-f8d7-4006-8981-a521558cc609",
   "metadata": {},
   "outputs": [
    {
     "data": {
      "text/html": [
       "<div>\n",
       "<style scoped>\n",
       "    .dataframe tbody tr th:only-of-type {\n",
       "        vertical-align: middle;\n",
       "    }\n",
       "\n",
       "    .dataframe tbody tr th {\n",
       "        vertical-align: top;\n",
       "    }\n",
       "\n",
       "    .dataframe thead th {\n",
       "        text-align: right;\n",
       "    }\n",
       "</style>\n",
       "<table border=\"1\" class=\"dataframe\">\n",
       "  <thead>\n",
       "    <tr style=\"text-align: right;\">\n",
       "      <th></th>\n",
       "      <th>Unnamed: 0</th>\n",
       "      <th>airline</th>\n",
       "      <th>flight</th>\n",
       "      <th>source_city</th>\n",
       "      <th>departure_time</th>\n",
       "      <th>stops</th>\n",
       "      <th>arrival_time</th>\n",
       "      <th>destination_city</th>\n",
       "      <th>class</th>\n",
       "      <th>duration</th>\n",
       "      <th>days_left</th>\n",
       "      <th>price</th>\n",
       "    </tr>\n",
       "  </thead>\n",
       "  <tbody>\n",
       "    <tr>\n",
       "      <th>0</th>\n",
       "      <td>0</td>\n",
       "      <td>SpiceJet</td>\n",
       "      <td>SG-8709</td>\n",
       "      <td>Delhi</td>\n",
       "      <td>Evening</td>\n",
       "      <td>zero</td>\n",
       "      <td>Night</td>\n",
       "      <td>Mumbai</td>\n",
       "      <td>Economy</td>\n",
       "      <td>2.17</td>\n",
       "      <td>1</td>\n",
       "      <td>5953</td>\n",
       "    </tr>\n",
       "    <tr>\n",
       "      <th>1</th>\n",
       "      <td>1</td>\n",
       "      <td>SpiceJet</td>\n",
       "      <td>SG-8157</td>\n",
       "      <td>Delhi</td>\n",
       "      <td>Early_Morning</td>\n",
       "      <td>zero</td>\n",
       "      <td>Morning</td>\n",
       "      <td>Mumbai</td>\n",
       "      <td>Economy</td>\n",
       "      <td>2.33</td>\n",
       "      <td>1</td>\n",
       "      <td>5953</td>\n",
       "    </tr>\n",
       "    <tr>\n",
       "      <th>2</th>\n",
       "      <td>2</td>\n",
       "      <td>AirAsia</td>\n",
       "      <td>I5-764</td>\n",
       "      <td>Delhi</td>\n",
       "      <td>Early_Morning</td>\n",
       "      <td>zero</td>\n",
       "      <td>Early_Morning</td>\n",
       "      <td>Mumbai</td>\n",
       "      <td>Economy</td>\n",
       "      <td>2.17</td>\n",
       "      <td>1</td>\n",
       "      <td>5956</td>\n",
       "    </tr>\n",
       "    <tr>\n",
       "      <th>3</th>\n",
       "      <td>3</td>\n",
       "      <td>Vistara</td>\n",
       "      <td>UK-995</td>\n",
       "      <td>Delhi</td>\n",
       "      <td>Morning</td>\n",
       "      <td>zero</td>\n",
       "      <td>Afternoon</td>\n",
       "      <td>Mumbai</td>\n",
       "      <td>Economy</td>\n",
       "      <td>2.25</td>\n",
       "      <td>1</td>\n",
       "      <td>5955</td>\n",
       "    </tr>\n",
       "    <tr>\n",
       "      <th>4</th>\n",
       "      <td>4</td>\n",
       "      <td>Vistara</td>\n",
       "      <td>UK-963</td>\n",
       "      <td>Delhi</td>\n",
       "      <td>Morning</td>\n",
       "      <td>zero</td>\n",
       "      <td>Morning</td>\n",
       "      <td>Mumbai</td>\n",
       "      <td>Economy</td>\n",
       "      <td>2.33</td>\n",
       "      <td>1</td>\n",
       "      <td>5955</td>\n",
       "    </tr>\n",
       "  </tbody>\n",
       "</table>\n",
       "</div>"
      ],
      "text/plain": [
       "   Unnamed: 0   airline   flight source_city departure_time stops  \\\n",
       "0           0  SpiceJet  SG-8709       Delhi        Evening  zero   \n",
       "1           1  SpiceJet  SG-8157       Delhi  Early_Morning  zero   \n",
       "2           2   AirAsia   I5-764       Delhi  Early_Morning  zero   \n",
       "3           3   Vistara   UK-995       Delhi        Morning  zero   \n",
       "4           4   Vistara   UK-963       Delhi        Morning  zero   \n",
       "\n",
       "    arrival_time destination_city    class  duration  days_left  price  \n",
       "0          Night           Mumbai  Economy      2.17          1   5953  \n",
       "1        Morning           Mumbai  Economy      2.33          1   5953  \n",
       "2  Early_Morning           Mumbai  Economy      2.17          1   5956  \n",
       "3      Afternoon           Mumbai  Economy      2.25          1   5955  \n",
       "4        Morning           Mumbai  Economy      2.33          1   5955  "
      ]
     },
     "execution_count": 3,
     "metadata": {},
     "output_type": "execute_result"
    }
   ],
   "source": [
    "df.head()"
   ]
  },
  {
   "cell_type": "code",
   "execution_count": 4,
   "id": "ac45ac6a-b331-4070-9171-c67806411251",
   "metadata": {},
   "outputs": [
    {
     "data": {
      "text/html": [
       "<div>\n",
       "<style scoped>\n",
       "    .dataframe tbody tr th:only-of-type {\n",
       "        vertical-align: middle;\n",
       "    }\n",
       "\n",
       "    .dataframe tbody tr th {\n",
       "        vertical-align: top;\n",
       "    }\n",
       "\n",
       "    .dataframe thead th {\n",
       "        text-align: right;\n",
       "    }\n",
       "</style>\n",
       "<table border=\"1\" class=\"dataframe\">\n",
       "  <thead>\n",
       "    <tr style=\"text-align: right;\">\n",
       "      <th></th>\n",
       "      <th>Unnamed: 0</th>\n",
       "      <th>airline</th>\n",
       "      <th>flight</th>\n",
       "      <th>source_city</th>\n",
       "      <th>departure_time</th>\n",
       "      <th>stops</th>\n",
       "      <th>arrival_time</th>\n",
       "      <th>destination_city</th>\n",
       "      <th>class</th>\n",
       "      <th>duration</th>\n",
       "      <th>days_left</th>\n",
       "      <th>price</th>\n",
       "    </tr>\n",
       "  </thead>\n",
       "  <tbody>\n",
       "    <tr>\n",
       "      <th>300148</th>\n",
       "      <td>300148</td>\n",
       "      <td>Vistara</td>\n",
       "      <td>UK-822</td>\n",
       "      <td>Chennai</td>\n",
       "      <td>Morning</td>\n",
       "      <td>one</td>\n",
       "      <td>Evening</td>\n",
       "      <td>Hyderabad</td>\n",
       "      <td>Business</td>\n",
       "      <td>10.08</td>\n",
       "      <td>49</td>\n",
       "      <td>69265</td>\n",
       "    </tr>\n",
       "    <tr>\n",
       "      <th>300149</th>\n",
       "      <td>300149</td>\n",
       "      <td>Vistara</td>\n",
       "      <td>UK-826</td>\n",
       "      <td>Chennai</td>\n",
       "      <td>Afternoon</td>\n",
       "      <td>one</td>\n",
       "      <td>Night</td>\n",
       "      <td>Hyderabad</td>\n",
       "      <td>Business</td>\n",
       "      <td>10.42</td>\n",
       "      <td>49</td>\n",
       "      <td>77105</td>\n",
       "    </tr>\n",
       "    <tr>\n",
       "      <th>300150</th>\n",
       "      <td>300150</td>\n",
       "      <td>Vistara</td>\n",
       "      <td>UK-832</td>\n",
       "      <td>Chennai</td>\n",
       "      <td>Early_Morning</td>\n",
       "      <td>one</td>\n",
       "      <td>Night</td>\n",
       "      <td>Hyderabad</td>\n",
       "      <td>Business</td>\n",
       "      <td>13.83</td>\n",
       "      <td>49</td>\n",
       "      <td>79099</td>\n",
       "    </tr>\n",
       "    <tr>\n",
       "      <th>300151</th>\n",
       "      <td>300151</td>\n",
       "      <td>Vistara</td>\n",
       "      <td>UK-828</td>\n",
       "      <td>Chennai</td>\n",
       "      <td>Early_Morning</td>\n",
       "      <td>one</td>\n",
       "      <td>Evening</td>\n",
       "      <td>Hyderabad</td>\n",
       "      <td>Business</td>\n",
       "      <td>10.00</td>\n",
       "      <td>49</td>\n",
       "      <td>81585</td>\n",
       "    </tr>\n",
       "    <tr>\n",
       "      <th>300152</th>\n",
       "      <td>300152</td>\n",
       "      <td>Vistara</td>\n",
       "      <td>UK-822</td>\n",
       "      <td>Chennai</td>\n",
       "      <td>Morning</td>\n",
       "      <td>one</td>\n",
       "      <td>Evening</td>\n",
       "      <td>Hyderabad</td>\n",
       "      <td>Business</td>\n",
       "      <td>10.08</td>\n",
       "      <td>49</td>\n",
       "      <td>81585</td>\n",
       "    </tr>\n",
       "  </tbody>\n",
       "</table>\n",
       "</div>"
      ],
      "text/plain": [
       "        Unnamed: 0  airline  flight source_city departure_time stops  \\\n",
       "300148      300148  Vistara  UK-822     Chennai        Morning   one   \n",
       "300149      300149  Vistara  UK-826     Chennai      Afternoon   one   \n",
       "300150      300150  Vistara  UK-832     Chennai  Early_Morning   one   \n",
       "300151      300151  Vistara  UK-828     Chennai  Early_Morning   one   \n",
       "300152      300152  Vistara  UK-822     Chennai        Morning   one   \n",
       "\n",
       "       arrival_time destination_city     class  duration  days_left  price  \n",
       "300148      Evening        Hyderabad  Business     10.08         49  69265  \n",
       "300149        Night        Hyderabad  Business     10.42         49  77105  \n",
       "300150        Night        Hyderabad  Business     13.83         49  79099  \n",
       "300151      Evening        Hyderabad  Business     10.00         49  81585  \n",
       "300152      Evening        Hyderabad  Business     10.08         49  81585  "
      ]
     },
     "execution_count": 4,
     "metadata": {},
     "output_type": "execute_result"
    }
   ],
   "source": [
    "df.tail()"
   ]
  },
  {
   "cell_type": "code",
   "execution_count": 8,
   "id": "a2462965-0044-49c4-8ac1-a3b03912f8df",
   "metadata": {},
   "outputs": [
    {
     "data": {
      "text/html": [
       "<div>\n",
       "<style scoped>\n",
       "    .dataframe tbody tr th:only-of-type {\n",
       "        vertical-align: middle;\n",
       "    }\n",
       "\n",
       "    .dataframe tbody tr th {\n",
       "        vertical-align: top;\n",
       "    }\n",
       "\n",
       "    .dataframe thead th {\n",
       "        text-align: right;\n",
       "    }\n",
       "</style>\n",
       "<table border=\"1\" class=\"dataframe\">\n",
       "  <thead>\n",
       "    <tr style=\"text-align: right;\">\n",
       "      <th></th>\n",
       "      <th>Unnamed: 0</th>\n",
       "      <th>airline</th>\n",
       "      <th>flight</th>\n",
       "      <th>source_city</th>\n",
       "      <th>departure_time</th>\n",
       "      <th>stops</th>\n",
       "      <th>arrival_time</th>\n",
       "      <th>destination_city</th>\n",
       "      <th>class</th>\n",
       "      <th>duration</th>\n",
       "      <th>days_left</th>\n",
       "      <th>price</th>\n",
       "    </tr>\n",
       "  </thead>\n",
       "  <tbody>\n",
       "    <tr>\n",
       "      <th>234003</th>\n",
       "      <td>234003</td>\n",
       "      <td>Vistara</td>\n",
       "      <td>UK-940</td>\n",
       "      <td>Mumbai</td>\n",
       "      <td>Evening</td>\n",
       "      <td>one</td>\n",
       "      <td>Morning</td>\n",
       "      <td>Bangalore</td>\n",
       "      <td>Business</td>\n",
       "      <td>13.25</td>\n",
       "      <td>47</td>\n",
       "      <td>77120</td>\n",
       "    </tr>\n",
       "    <tr>\n",
       "      <th>131703</th>\n",
       "      <td>131703</td>\n",
       "      <td>Indigo</td>\n",
       "      <td>6E-375</td>\n",
       "      <td>Kolkata</td>\n",
       "      <td>Early_Morning</td>\n",
       "      <td>one</td>\n",
       "      <td>Evening</td>\n",
       "      <td>Mumbai</td>\n",
       "      <td>Economy</td>\n",
       "      <td>9.50</td>\n",
       "      <td>27</td>\n",
       "      <td>7959</td>\n",
       "    </tr>\n",
       "    <tr>\n",
       "      <th>200239</th>\n",
       "      <td>200239</td>\n",
       "      <td>Vistara</td>\n",
       "      <td>UK-824</td>\n",
       "      <td>Chennai</td>\n",
       "      <td>Night</td>\n",
       "      <td>one</td>\n",
       "      <td>Evening</td>\n",
       "      <td>Kolkata</td>\n",
       "      <td>Economy</td>\n",
       "      <td>23.08</td>\n",
       "      <td>25</td>\n",
       "      <td>15002</td>\n",
       "    </tr>\n",
       "  </tbody>\n",
       "</table>\n",
       "</div>"
      ],
      "text/plain": [
       "        Unnamed: 0  airline  flight source_city departure_time stops  \\\n",
       "234003      234003  Vistara  UK-940      Mumbai        Evening   one   \n",
       "131703      131703   Indigo  6E-375     Kolkata  Early_Morning   one   \n",
       "200239      200239  Vistara  UK-824     Chennai          Night   one   \n",
       "\n",
       "       arrival_time destination_city     class  duration  days_left  price  \n",
       "234003      Morning        Bangalore  Business     13.25         47  77120  \n",
       "131703      Evening           Mumbai   Economy      9.50         27   7959  \n",
       "200239      Evening          Kolkata   Economy     23.08         25  15002  "
      ]
     },
     "execution_count": 8,
     "metadata": {},
     "output_type": "execute_result"
    }
   ],
   "source": [
    "df.sample(3)"
   ]
  },
  {
   "cell_type": "code",
   "execution_count": 7,
   "id": "711220ca-22ea-4f39-a067-622eebebe96b",
   "metadata": {},
   "outputs": [
    {
     "data": {
      "text/plain": [
       "(300153, 12)"
      ]
     },
     "execution_count": 7,
     "metadata": {},
     "output_type": "execute_result"
    }
   ],
   "source": [
    "df.shape"
   ]
  },
  {
   "cell_type": "code",
   "execution_count": 5,
   "id": "75a48f0b-5549-4b56-8c61-388e6b367efa",
   "metadata": {},
   "outputs": [
    {
     "name": "stdout",
     "output_type": "stream",
     "text": [
      "<class 'pandas.core.frame.DataFrame'>\n",
      "RangeIndex: 300153 entries, 0 to 300152\n",
      "Data columns (total 12 columns):\n",
      " #   Column            Non-Null Count   Dtype  \n",
      "---  ------            --------------   -----  \n",
      " 0   Unnamed: 0        300153 non-null  int64  \n",
      " 1   airline           300153 non-null  object \n",
      " 2   flight            300153 non-null  object \n",
      " 3   source_city       300153 non-null  object \n",
      " 4   departure_time    300153 non-null  object \n",
      " 5   stops             300153 non-null  object \n",
      " 6   arrival_time      300153 non-null  object \n",
      " 7   destination_city  300153 non-null  object \n",
      " 8   class             300153 non-null  object \n",
      " 9   duration          300153 non-null  float64\n",
      " 10  days_left         300153 non-null  int64  \n",
      " 11  price             300153 non-null  int64  \n",
      "dtypes: float64(1), int64(3), object(8)\n",
      "memory usage: 27.5+ MB\n"
     ]
    }
   ],
   "source": [
    "df.info()"
   ]
  },
  {
   "cell_type": "code",
   "execution_count": 6,
   "id": "ff1170da-c27e-4d43-83fe-31399b6dbc82",
   "metadata": {},
   "outputs": [
    {
     "data": {
      "text/html": [
       "<div>\n",
       "<style scoped>\n",
       "    .dataframe tbody tr th:only-of-type {\n",
       "        vertical-align: middle;\n",
       "    }\n",
       "\n",
       "    .dataframe tbody tr th {\n",
       "        vertical-align: top;\n",
       "    }\n",
       "\n",
       "    .dataframe thead th {\n",
       "        text-align: right;\n",
       "    }\n",
       "</style>\n",
       "<table border=\"1\" class=\"dataframe\">\n",
       "  <thead>\n",
       "    <tr style=\"text-align: right;\">\n",
       "      <th></th>\n",
       "      <th>Unnamed: 0</th>\n",
       "      <th>duration</th>\n",
       "      <th>days_left</th>\n",
       "      <th>price</th>\n",
       "    </tr>\n",
       "  </thead>\n",
       "  <tbody>\n",
       "    <tr>\n",
       "      <th>count</th>\n",
       "      <td>300153.000000</td>\n",
       "      <td>300153.000000</td>\n",
       "      <td>300153.000000</td>\n",
       "      <td>300153.000000</td>\n",
       "    </tr>\n",
       "    <tr>\n",
       "      <th>mean</th>\n",
       "      <td>150076.000000</td>\n",
       "      <td>12.221021</td>\n",
       "      <td>26.004751</td>\n",
       "      <td>20889.660523</td>\n",
       "    </tr>\n",
       "    <tr>\n",
       "      <th>std</th>\n",
       "      <td>86646.852011</td>\n",
       "      <td>7.191997</td>\n",
       "      <td>13.561004</td>\n",
       "      <td>22697.767366</td>\n",
       "    </tr>\n",
       "    <tr>\n",
       "      <th>min</th>\n",
       "      <td>0.000000</td>\n",
       "      <td>0.830000</td>\n",
       "      <td>1.000000</td>\n",
       "      <td>1105.000000</td>\n",
       "    </tr>\n",
       "    <tr>\n",
       "      <th>25%</th>\n",
       "      <td>75038.000000</td>\n",
       "      <td>6.830000</td>\n",
       "      <td>15.000000</td>\n",
       "      <td>4783.000000</td>\n",
       "    </tr>\n",
       "    <tr>\n",
       "      <th>50%</th>\n",
       "      <td>150076.000000</td>\n",
       "      <td>11.250000</td>\n",
       "      <td>26.000000</td>\n",
       "      <td>7425.000000</td>\n",
       "    </tr>\n",
       "    <tr>\n",
       "      <th>75%</th>\n",
       "      <td>225114.000000</td>\n",
       "      <td>16.170000</td>\n",
       "      <td>38.000000</td>\n",
       "      <td>42521.000000</td>\n",
       "    </tr>\n",
       "    <tr>\n",
       "      <th>max</th>\n",
       "      <td>300152.000000</td>\n",
       "      <td>49.830000</td>\n",
       "      <td>49.000000</td>\n",
       "      <td>123071.000000</td>\n",
       "    </tr>\n",
       "  </tbody>\n",
       "</table>\n",
       "</div>"
      ],
      "text/plain": [
       "          Unnamed: 0       duration      days_left          price\n",
       "count  300153.000000  300153.000000  300153.000000  300153.000000\n",
       "mean   150076.000000      12.221021      26.004751   20889.660523\n",
       "std     86646.852011       7.191997      13.561004   22697.767366\n",
       "min         0.000000       0.830000       1.000000    1105.000000\n",
       "25%     75038.000000       6.830000      15.000000    4783.000000\n",
       "50%    150076.000000      11.250000      26.000000    7425.000000\n",
       "75%    225114.000000      16.170000      38.000000   42521.000000\n",
       "max    300152.000000      49.830000      49.000000  123071.000000"
      ]
     },
     "execution_count": 6,
     "metadata": {},
     "output_type": "execute_result"
    }
   ],
   "source": [
    "df.describe()"
   ]
  },
  {
   "cell_type": "markdown",
   "id": "20632427-dba6-4712-8a53-cb38ca77db9e",
   "metadata": {},
   "source": [
    "### Various features in airline dataset"
   ]
  },
  {
   "cell_type": "code",
   "execution_count": 9,
   "id": "03276c0c-3e4b-49f7-8444-5b4132e2c531",
   "metadata": {},
   "outputs": [
    {
     "data": {
      "text/plain": [
       "Index(['Unnamed: 0', 'airline', 'flight', 'source_city', 'departure_time',\n",
       "       'stops', 'arrival_time', 'destination_city', 'class', 'duration',\n",
       "       'days_left', 'price'],\n",
       "      dtype='object')"
      ]
     },
     "execution_count": 9,
     "metadata": {},
     "output_type": "execute_result"
    }
   ],
   "source": [
    "df.columns"
   ]
  },
  {
   "cell_type": "markdown",
   "id": "1f93bab1-0819-426b-8fbf-6fb0de747819",
   "metadata": {},
   "source": [
    "### Type of each feature in dataset"
   ]
  },
  {
   "cell_type": "code",
   "execution_count": 10,
   "id": "be225c59-dae3-4bf7-9b79-f6d6e66ca29c",
   "metadata": {},
   "outputs": [
    {
     "data": {
      "text/plain": [
       "Unnamed: 0            int64\n",
       "airline              object\n",
       "flight               object\n",
       "source_city          object\n",
       "departure_time       object\n",
       "stops                object\n",
       "arrival_time         object\n",
       "destination_city     object\n",
       "class                object\n",
       "duration            float64\n",
       "days_left             int64\n",
       "price                 int64\n",
       "dtype: object"
      ]
     },
     "execution_count": 10,
     "metadata": {},
     "output_type": "execute_result"
    }
   ],
   "source": [
    "df.dtypes"
   ]
  },
  {
   "cell_type": "markdown",
   "id": "dfaaa383-9e27-4612-a3b7-be8607563e25",
   "metadata": {},
   "source": [
    "### Checking nan value of each columns"
   ]
  },
  {
   "cell_type": "code",
   "execution_count": 11,
   "id": "80d3f9ed-d7b0-4471-8042-0a77713430a4",
   "metadata": {},
   "outputs": [
    {
     "data": {
      "text/plain": [
       "Unnamed: 0          0.0\n",
       "airline             0.0\n",
       "flight              0.0\n",
       "source_city         0.0\n",
       "departure_time      0.0\n",
       "stops               0.0\n",
       "arrival_time        0.0\n",
       "destination_city    0.0\n",
       "class               0.0\n",
       "duration            0.0\n",
       "days_left           0.0\n",
       "price               0.0\n",
       "dtype: float64"
      ]
     },
     "execution_count": 11,
     "metadata": {},
     "output_type": "execute_result"
    }
   ],
   "source": [
    "df.isna().sum()/len(df)*100"
   ]
  },
  {
   "cell_type": "markdown",
   "id": "a20e0255-a1b7-4b27-a60c-d2aa9fe37271",
   "metadata": {},
   "source": [
    "### Checking duplicate value"
   ]
  },
  {
   "cell_type": "code",
   "execution_count": 12,
   "id": "9aa6f9b7-3d5a-44b0-bd3b-9828c1921f15",
   "metadata": {},
   "outputs": [
    {
     "data": {
      "text/plain": [
       "0"
      ]
     },
     "execution_count": 12,
     "metadata": {},
     "output_type": "execute_result"
    }
   ],
   "source": [
    "df.duplicated().sum()"
   ]
  },
  {
   "cell_type": "markdown",
   "id": "d8e26de4-fff6-4db1-a91d-32abcb2b245f",
   "metadata": {},
   "source": [
    "### Checking values of each column"
   ]
  },
  {
   "cell_type": "code",
   "execution_count": 13,
   "id": "3cb8a0c4-06ae-461d-ac6f-5704bc2d2298",
   "metadata": {},
   "outputs": [
    {
     "data": {
      "text/plain": [
       "Unnamed: 0          300153\n",
       "airline                  6\n",
       "flight                1561\n",
       "source_city              6\n",
       "departure_time           6\n",
       "stops                    3\n",
       "arrival_time             6\n",
       "destination_city         6\n",
       "class                    2\n",
       "duration               476\n",
       "days_left               49\n",
       "price                12157\n",
       "dtype: int64"
      ]
     },
     "execution_count": 13,
     "metadata": {},
     "output_type": "execute_result"
    }
   ],
   "source": [
    "df.nunique()"
   ]
  },
  {
   "cell_type": "code",
   "execution_count": 14,
   "id": "c220eca7-198b-45cb-959a-894c320c9849",
   "metadata": {},
   "outputs": [
    {
     "data": {
      "text/plain": [
       "array(['SpiceJet', 'AirAsia', 'Vistara', 'GO_FIRST', 'Indigo',\n",
       "       'Air_India'], dtype=object)"
      ]
     },
     "execution_count": 14,
     "metadata": {},
     "output_type": "execute_result"
    }
   ],
   "source": [
    "df['airline'].unique()"
   ]
  },
  {
   "cell_type": "code",
   "execution_count": 15,
   "id": "386e97b0-eccb-42cd-b306-683d0ee35612",
   "metadata": {},
   "outputs": [
    {
     "data": {
      "text/plain": [
       "array(['SG-8709', 'SG-8157', 'I5-764', ..., '6E-7127', '6E-7259',\n",
       "       'AI-433'], dtype=object)"
      ]
     },
     "execution_count": 15,
     "metadata": {},
     "output_type": "execute_result"
    }
   ],
   "source": [
    "df['flight'].unique()"
   ]
  },
  {
   "cell_type": "code",
   "execution_count": 16,
   "id": "c80f7d95-7dc0-4546-acf9-d632b4e27229",
   "metadata": {},
   "outputs": [
    {
     "data": {
      "text/plain": [
       "array(['Delhi', 'Mumbai', 'Bangalore', 'Kolkata', 'Hyderabad', 'Chennai'],\n",
       "      dtype=object)"
      ]
     },
     "execution_count": 16,
     "metadata": {},
     "output_type": "execute_result"
    }
   ],
   "source": [
    "df['source_city'].unique()"
   ]
  },
  {
   "cell_type": "code",
   "execution_count": 17,
   "id": "08739c51-3072-459b-96cb-3bbe144014f4",
   "metadata": {},
   "outputs": [
    {
     "data": {
      "text/plain": [
       "array(['zero', 'one', 'two_or_more'], dtype=object)"
      ]
     },
     "execution_count": 17,
     "metadata": {},
     "output_type": "execute_result"
    }
   ],
   "source": [
    "df['stops'].unique()"
   ]
  },
  {
   "cell_type": "code",
   "execution_count": 18,
   "id": "57db8397-cdce-436f-92e9-319f7bf7b498",
   "metadata": {},
   "outputs": [
    {
     "data": {
      "text/plain": [
       "array(['Evening', 'Early_Morning', 'Morning', 'Afternoon', 'Night',\n",
       "       'Late_Night'], dtype=object)"
      ]
     },
     "execution_count": 18,
     "metadata": {},
     "output_type": "execute_result"
    }
   ],
   "source": [
    "df['departure_time'].unique()"
   ]
  },
  {
   "cell_type": "code",
   "execution_count": 19,
   "id": "27383be4-f6d8-4fbe-8e7b-cd170ed55964",
   "metadata": {},
   "outputs": [
    {
     "data": {
      "text/plain": [
       "array(['Mumbai', 'Bangalore', 'Kolkata', 'Hyderabad', 'Chennai', 'Delhi'],\n",
       "      dtype=object)"
      ]
     },
     "execution_count": 19,
     "metadata": {},
     "output_type": "execute_result"
    }
   ],
   "source": [
    "df['destination_city'].unique()"
   ]
  },
  {
   "cell_type": "code",
   "execution_count": 20,
   "id": "646ca165-4e7e-48a2-a9f9-5d9b60f5edb4",
   "metadata": {},
   "outputs": [
    {
     "data": {
      "text/plain": [
       "array(['Economy', 'Business'], dtype=object)"
      ]
     },
     "execution_count": 20,
     "metadata": {},
     "output_type": "execute_result"
    }
   ],
   "source": [
    "df['class'].unique()"
   ]
  },
  {
   "cell_type": "code",
   "execution_count": 21,
   "id": "afde4876-6997-4235-8aa8-70ec71a98b60",
   "metadata": {
    "tags": []
   },
   "outputs": [
    {
     "data": {
      "text/plain": [
       "array([ 2.17,  2.33,  2.25,  2.08, 12.25, 16.33, 11.75, 14.5 , 15.67,\n",
       "        3.75,  2.5 ,  5.83,  8.  ,  6.  , 14.67, 16.17, 18.  , 23.17,\n",
       "       24.17,  8.83,  4.5 , 15.25, 11.  , 19.08, 22.83, 26.42, 17.75,\n",
       "       19.58, 26.67, 15.17, 20.83, 11.42, 22.25, 26.  , 21.75,  3.83,\n",
       "        4.42,  7.67,  8.33, 10.42, 23.75, 19.5 ,  6.5 , 12.42, 21.08,\n",
       "       28.17, 28.25,  9.25, 17.92,  7.08, 13.83,  7.58, 15.83, 24.42,\n",
       "        4.17,  4.25,  5.08, 29.33, 17.  , 27.17, 24.75,  5.75, 12.75,\n",
       "       13.75, 17.83,  5.5 , 23.83,  5.  , 26.5 , 12.83,  8.92, 11.17,\n",
       "       12.17, 15.58, 15.75,  7.92, 13.25, 16.  , 22.75,  6.33,  7.25,\n",
       "       30.08, 18.25,  6.08,  2.  , 12.33,  3.5 , 10.25, 14.17, 25.58,\n",
       "        4.08,  9.75,  6.67,  9.67, 10.08, 12.58,  7.  ,  8.25, 15.5 ,\n",
       "       10.17, 23.5 , 25.75, 11.5 , 21.42, 14.25,  7.75,  5.33,  5.67,\n",
       "        4.75, 19.33,  6.25, 10.33,  9.08, 15.42,  4.83, 25.83,  7.5 ,\n",
       "       27.58, 28.42,  6.42, 24.58, 16.5 , 11.33, 24.83, 14.92, 26.08,\n",
       "        5.42, 28.5 , 27.33,  8.67, 20.42, 20.08,  5.92, 20.58, 26.17,\n",
       "       17.5 , 18.33, 21.83, 26.83, 13.42, 19.25, 23.58, 23.92, 12.08,\n",
       "       14.42, 25.92, 18.58, 13.08,  4.58, 21.58, 10.5 , 11.67,  8.58,\n",
       "       24.67, 14.75, 17.17,  7.33,  9.17, 11.58, 23.08, 25.25, 21.25,\n",
       "        8.42, 10.92, 14.  ,  4.92, 25.08, 12.67, 28.08, 21.33, 14.33,\n",
       "       14.83, 15.33, 15.92,  9.5 , 27.75, 24.92, 22.58,  6.58,  9.33,\n",
       "       13.  , 13.58, 11.08,  5.58, 15.  ,  6.75,  9.83, 11.25, 11.83,\n",
       "        9.58,  8.5 , 14.08, 10.58, 22.17, 22.08,  8.75, 15.08, 25.5 ,\n",
       "       16.42, 18.92,  2.42,  3.92, 24.5 , 23.  , 10.  , 19.  , 16.58,\n",
       "        7.83,  3.17, 16.25, 24.08,  4.67,  6.92, 13.67, 25.  ,  8.08,\n",
       "       17.08,  7.42, 22.5 , 12.92,  6.17, 23.67,  5.17, 13.33, 17.25,\n",
       "       25.42, 29.17,  9.  ,  9.42,  8.17, 26.58, 22.33, 12.5 , 21.  ,\n",
       "       24.25, 27.5 , 18.17, 16.67,  2.83,  2.75,  2.92,  3.  ,  7.17,\n",
       "       25.67,  2.67, 10.83, 18.5 , 21.17, 23.33, 24.  , 17.33, 27.42,\n",
       "       26.25,  4.33,  9.92, 19.67, 26.33, 16.92, 25.33, 27.25, 27.92,\n",
       "       27.  , 12.  , 10.67, 28.  , 21.67, 21.92, 13.92, 13.5 ,  2.58,\n",
       "       22.42, 24.33, 18.08, 29.58, 29.67, 31.25, 33.17, 36.92, 20.25,\n",
       "       22.92,  6.83,  5.25, 20.67, 17.58, 19.17, 17.42, 11.92, 31.5 ,\n",
       "       19.83, 27.08, 26.92, 21.5 ,  6.07, 16.83, 20.5 , 18.67, 10.75,\n",
       "       18.42, 28.58, 19.92, 20.  , 22.  , 29.83, 19.42, 25.17,  3.08,\n",
       "       18.75, 27.83, 20.17, 20.33, 20.75, 28.67, 35.83, 34.83, 23.25,\n",
       "       26.75, 19.75, 27.67, 16.08, 30.25, 28.75, 30.58, 18.83, 13.17,\n",
       "       30.5 , 29.5 , 28.83, 30.67, 17.67, 14.58, 29.  , 28.33, 39.67,\n",
       "       16.75,  1.92, 37.42, 36.42, 23.42, 22.67, 33.75, 30.83, 28.92,\n",
       "        1.83,  3.67,  4.  ,  1.58,  1.67,  1.75, 20.92, 33.5 , 30.33,\n",
       "       35.25, 31.83, 40.  , 31.67, 32.08, 36.17, 30.75, 33.83, 34.5 ,\n",
       "       31.08, 30.17, 36.08, 33.33, 37.  , 34.08, 37.08,  1.42,  1.33,\n",
       "        1.5 , 37.83, 29.25, 34.25, 36.83,  3.42, 31.58, 33.58, 34.58,\n",
       "       32.17,  1.17, 35.17, 37.67, 37.25, 39.75, 31.  , 37.75, 33.25,\n",
       "       31.17, 29.92, 31.92, 41.58, 37.17, 32.  , 35.5 , 39.  , 31.42,\n",
       "       34.33, 38.58, 33.67,  3.33,  3.58, 34.17, 37.33, 35.42, 30.  ,\n",
       "       33.08, 38.83, 32.67, 29.42, 35.08, 32.5 , 29.75,  1.08,  1.  ,\n",
       "       32.42,  1.25, 34.92, 35.75, 31.75, 33.  , 34.75, 36.58, 41.83,\n",
       "       36.5 , 33.42, 36.25, 40.67,  0.92, 37.58,  0.83, 40.75, 47.75,\n",
       "       36.  , 40.42, 33.92, 30.42, 40.5 , 29.08, 38.5 , 34.67,  6.98,\n",
       "       30.92, 35.58,  3.25, 39.83, 37.92, 37.5 , 39.08, 38.75, 34.42,\n",
       "       40.92, 13.4 , 31.33, 42.  , 32.75, 32.33, 32.83, 35.92, 32.25,\n",
       "       38.67, 38.33, 39.25, 41.08, 32.92, 36.75, 35.67, 35.33, 49.83,\n",
       "       34.  , 47.08, 45.83, 39.42, 39.92, 32.58, 44.5 , 41.5 ])"
      ]
     },
     "execution_count": 21,
     "metadata": {},
     "output_type": "execute_result"
    }
   ],
   "source": [
    "df['duration'].unique()"
   ]
  },
  {
   "cell_type": "code",
   "execution_count": 22,
   "id": "a1c169b7-fe2a-446c-9f63-77548f969e78",
   "metadata": {},
   "outputs": [
    {
     "data": {
      "text/plain": [
       "array([ 1,  2,  3,  4,  5,  6,  7,  8,  9, 10, 11, 12, 13, 14, 15, 16, 17,\n",
       "       18, 19, 20, 21, 22, 23, 24, 25, 26, 27, 28, 29, 30, 31, 32, 33, 34,\n",
       "       35, 36, 37, 38, 39, 40, 41, 42, 43, 44, 45, 46, 47, 48, 49],\n",
       "      dtype=int64)"
      ]
     },
     "execution_count": 22,
     "metadata": {},
     "output_type": "execute_result"
    }
   ],
   "source": [
    "df['days_left'].unique()"
   ]
  },
  {
   "cell_type": "code",
   "execution_count": 23,
   "id": "068ea4b4-8cba-4777-959f-0b38647cc5ad",
   "metadata": {},
   "outputs": [
    {
     "data": {
      "text/plain": [
       "array([ 5953,  5956,  5955, ..., 87051, 74731, 77105], dtype=int64)"
      ]
     },
     "execution_count": 23,
     "metadata": {},
     "output_type": "execute_result"
    }
   ],
   "source": [
    "df['price'].unique()"
   ]
  },
  {
   "cell_type": "markdown",
   "id": "e5fd24ae-8293-4a1f-8a7d-6110b2871f93",
   "metadata": {},
   "source": [
    "### Dropping the columns Unnamed: 0"
   ]
  },
  {
   "cell_type": "code",
   "execution_count": 24,
   "id": "d8483405-5660-476f-8710-a4617a77c7aa",
   "metadata": {
    "tags": []
   },
   "outputs": [],
   "source": [
    "df.drop(['Unnamed: 0'],axis=1,inplace=True)"
   ]
  },
  {
   "cell_type": "markdown",
   "id": "21f583f0-0713-4eb3-940c-7c0723b07dbd",
   "metadata": {},
   "source": [
    "* Dropped the column that I did not need for the prediction.\n",
    "* I dropped column Unnamed:0."
   ]
  },
  {
   "cell_type": "markdown",
   "id": "3b60b631-54e8-42a6-8422-319f665d109e",
   "metadata": {},
   "source": [
    "### Below I again check columns after I dropping column"
   ]
  },
  {
   "cell_type": "code",
   "execution_count": 25,
   "id": "014599ef-b8fc-4d4e-80dd-9ffd143a30df",
   "metadata": {},
   "outputs": [
    {
     "data": {
      "text/plain": [
       "Index(['airline', 'flight', 'source_city', 'departure_time', 'stops',\n",
       "       'arrival_time', 'destination_city', 'class', 'duration', 'days_left',\n",
       "       'price'],\n",
       "      dtype='object')"
      ]
     },
     "execution_count": 25,
     "metadata": {},
     "output_type": "execute_result"
    }
   ],
   "source": [
    "df.columns"
   ]
  },
  {
   "cell_type": "markdown",
   "id": "73da536f-a4f1-4553-a127-a30bfb5e35bd",
   "metadata": {},
   "source": [
    "# Exploratory Data Analysis"
   ]
  },
  {
   "cell_type": "markdown",
   "id": "6f61b94b-e1f6-4255-94f8-3759c228c687",
   "metadata": {},
   "source": [
    "### 1) Does price vary with Airlines?"
   ]
  },
  {
   "cell_type": "code",
   "execution_count": 26,
   "id": "2dbb6314-917a-4d8f-95e5-5751b8de1a05",
   "metadata": {},
   "outputs": [
    {
     "data": {
      "text/html": [
       "<div>\n",
       "<style scoped>\n",
       "    .dataframe tbody tr th:only-of-type {\n",
       "        vertical-align: middle;\n",
       "    }\n",
       "\n",
       "    .dataframe tbody tr th {\n",
       "        vertical-align: top;\n",
       "    }\n",
       "\n",
       "    .dataframe thead th {\n",
       "        text-align: right;\n",
       "    }\n",
       "</style>\n",
       "<table border=\"1\" class=\"dataframe\">\n",
       "  <thead>\n",
       "    <tr style=\"text-align: right;\">\n",
       "      <th></th>\n",
       "      <th>airline</th>\n",
       "      <th>flight</th>\n",
       "      <th>source_city</th>\n",
       "      <th>departure_time</th>\n",
       "      <th>stops</th>\n",
       "      <th>arrival_time</th>\n",
       "      <th>destination_city</th>\n",
       "      <th>class</th>\n",
       "      <th>duration</th>\n",
       "      <th>days_left</th>\n",
       "      <th>price</th>\n",
       "    </tr>\n",
       "  </thead>\n",
       "  <tbody>\n",
       "    <tr>\n",
       "      <th>0</th>\n",
       "      <td>SpiceJet</td>\n",
       "      <td>SG-8709</td>\n",
       "      <td>Delhi</td>\n",
       "      <td>Evening</td>\n",
       "      <td>zero</td>\n",
       "      <td>Night</td>\n",
       "      <td>Mumbai</td>\n",
       "      <td>Economy</td>\n",
       "      <td>2.17</td>\n",
       "      <td>1</td>\n",
       "      <td>5953</td>\n",
       "    </tr>\n",
       "    <tr>\n",
       "      <th>1</th>\n",
       "      <td>SpiceJet</td>\n",
       "      <td>SG-8157</td>\n",
       "      <td>Delhi</td>\n",
       "      <td>Early_Morning</td>\n",
       "      <td>zero</td>\n",
       "      <td>Morning</td>\n",
       "      <td>Mumbai</td>\n",
       "      <td>Economy</td>\n",
       "      <td>2.33</td>\n",
       "      <td>1</td>\n",
       "      <td>5953</td>\n",
       "    </tr>\n",
       "  </tbody>\n",
       "</table>\n",
       "</div>"
      ],
      "text/plain": [
       "    airline   flight source_city departure_time stops arrival_time  \\\n",
       "0  SpiceJet  SG-8709       Delhi        Evening  zero        Night   \n",
       "1  SpiceJet  SG-8157       Delhi  Early_Morning  zero      Morning   \n",
       "\n",
       "  destination_city    class  duration  days_left  price  \n",
       "0           Mumbai  Economy      2.17          1   5953  \n",
       "1           Mumbai  Economy      2.33          1   5953  "
      ]
     },
     "execution_count": 26,
     "metadata": {},
     "output_type": "execute_result"
    }
   ],
   "source": [
    "df.head(2)"
   ]
  },
  {
   "cell_type": "code",
   "execution_count": 4,
   "id": "8709cc19-8ccc-45c2-aa29-d0f48951d472",
   "metadata": {},
   "outputs": [
    {
     "data": {
      "text/plain": [
       "airline\n",
       "AirAsia       4091.072742\n",
       "Air_India    23507.019112\n",
       "GO_FIRST      5652.007595\n",
       "Indigo        5324.216303\n",
       "SpiceJet      6179.278881\n",
       "Vistara      30396.536302\n",
       "Name: price, dtype: float64"
      ]
     },
     "execution_count": 4,
     "metadata": {},
     "output_type": "execute_result"
    }
   ],
   "source": [
    "df.groupby('airline')['price'].mean()"
   ]
  },
  {
   "cell_type": "code",
   "execution_count": 29,
   "id": "1977767e-d06a-45f9-a68b-7d0db1ff0ccf",
   "metadata": {
    "tags": []
   },
   "outputs": [
    {
     "data": {
      "text/plain": [
       "Text(0.5, 1.0, 'The ticket price vary with Airlines')"
      ]
     },
     "execution_count": 29,
     "metadata": {},
     "output_type": "execute_result"
    },
    {
     "data": {
      "image/png": "[encoded data removed]",
      "text/plain": [
       "<Figure size 640x480 with 1 Axes>"
      ]
     },
     "metadata": {},
     "output_type": "display_data"
    }
   ],
   "source": [
    "sns.barplot(x='airline',y='price',data=df)\n",
    "plt.title('The ticket price vary with Airlines')"
   ]
  },
  {
   "cell_type": "markdown",
   "id": "4f0afe9a-e481-475a-8249-a1443c611035",
   "metadata": {},
   "source": [
    "#### From the above graph, we can conclude that:\n",
    "##### Vistara airline average ticket price is very high(around 30000 rs) and AirAsia average ticket price is much less(around 5000 rs)compare to other airlines.\n",
    "    "
   ]
  },
  {
   "cell_type": "markdown",
   "id": "c65aa25a-fb75-4c68-a0d3-88236e8d3a24",
   "metadata": {
    "tags": []
   },
   "source": [
    "### 2) How is the price affected when tickets are bought in just 1 or 2 days before departure?"
   ]
  },
  {
   "cell_type": "code",
   "execution_count": 6,
   "id": "d112ee01-55f3-40f4-959b-f56996ef14db",
   "metadata": {},
   "outputs": [],
   "source": [
    "last_minute_ticket=df[(df['days_left']==1) | (df['days_left']==2)]"
   ]
  },
  {
   "cell_type": "code",
   "execution_count": 36,
   "id": "6abb9164-86a1-41e2-85b9-9064481f3e74",
   "metadata": {
    "collapsed": true,
    "jupyter": {
     "outputs_hidden": true,
     "source_hidden": true
    },
    "tags": []
   },
   "outputs": [
    {
     "data": {
      "text/html": [
       "<div>\n",
       "<style scoped>\n",
       "    .dataframe tbody tr th:only-of-type {\n",
       "        vertical-align: middle;\n",
       "    }\n",
       "\n",
       "    .dataframe tbody tr th {\n",
       "        vertical-align: top;\n",
       "    }\n",
       "\n",
       "    .dataframe thead th {\n",
       "        text-align: right;\n",
       "    }\n",
       "</style>\n",
       "<table border=\"1\" class=\"dataframe\">\n",
       "  <thead>\n",
       "    <tr style=\"text-align: right;\">\n",
       "      <th></th>\n",
       "      <th>Unnamed: 0</th>\n",
       "      <th>airline</th>\n",
       "      <th>flight</th>\n",
       "      <th>source_city</th>\n",
       "      <th>departure_time</th>\n",
       "      <th>stops</th>\n",
       "      <th>arrival_time</th>\n",
       "      <th>destination_city</th>\n",
       "      <th>class</th>\n",
       "      <th>duration</th>\n",
       "      <th>days_left</th>\n",
       "      <th>price</th>\n",
       "    </tr>\n",
       "  </thead>\n",
       "  <tbody>\n",
       "    <tr>\n",
       "      <th>3</th>\n",
       "      <td>3</td>\n",
       "      <td>Vistara</td>\n",
       "      <td>UK-995</td>\n",
       "      <td>Delhi</td>\n",
       "      <td>Morning</td>\n",
       "      <td>zero</td>\n",
       "      <td>Afternoon</td>\n",
       "      <td>Mumbai</td>\n",
       "      <td>Economy</td>\n",
       "      <td>2.25</td>\n",
       "      <td>1</td>\n",
       "      <td>5955</td>\n",
       "    </tr>\n",
       "    <tr>\n",
       "      <th>153</th>\n",
       "      <td>153</td>\n",
       "      <td>Vistara</td>\n",
       "      <td>UK-995</td>\n",
       "      <td>Delhi</td>\n",
       "      <td>Morning</td>\n",
       "      <td>zero</td>\n",
       "      <td>Afternoon</td>\n",
       "      <td>Mumbai</td>\n",
       "      <td>Economy</td>\n",
       "      <td>2.25</td>\n",
       "      <td>2</td>\n",
       "      <td>6375</td>\n",
       "    </tr>\n",
       "    <tr>\n",
       "      <th>255</th>\n",
       "      <td>255</td>\n",
       "      <td>Vistara</td>\n",
       "      <td>UK-995</td>\n",
       "      <td>Delhi</td>\n",
       "      <td>Morning</td>\n",
       "      <td>zero</td>\n",
       "      <td>Afternoon</td>\n",
       "      <td>Mumbai</td>\n",
       "      <td>Economy</td>\n",
       "      <td>2.25</td>\n",
       "      <td>3</td>\n",
       "      <td>5955</td>\n",
       "    </tr>\n",
       "    <tr>\n",
       "      <th>407</th>\n",
       "      <td>407</td>\n",
       "      <td>Vistara</td>\n",
       "      <td>UK-995</td>\n",
       "      <td>Delhi</td>\n",
       "      <td>Morning</td>\n",
       "      <td>zero</td>\n",
       "      <td>Afternoon</td>\n",
       "      <td>Mumbai</td>\n",
       "      <td>Economy</td>\n",
       "      <td>2.25</td>\n",
       "      <td>4</td>\n",
       "      <td>5955</td>\n",
       "    </tr>\n",
       "    <tr>\n",
       "      <th>580</th>\n",
       "      <td>580</td>\n",
       "      <td>Vistara</td>\n",
       "      <td>UK-995</td>\n",
       "      <td>Delhi</td>\n",
       "      <td>Morning</td>\n",
       "      <td>zero</td>\n",
       "      <td>Afternoon</td>\n",
       "      <td>Mumbai</td>\n",
       "      <td>Economy</td>\n",
       "      <td>2.25</td>\n",
       "      <td>5</td>\n",
       "      <td>5955</td>\n",
       "    </tr>\n",
       "    <tr>\n",
       "      <th>...</th>\n",
       "      <td>...</td>\n",
       "      <td>...</td>\n",
       "      <td>...</td>\n",
       "      <td>...</td>\n",
       "      <td>...</td>\n",
       "      <td>...</td>\n",
       "      <td>...</td>\n",
       "      <td>...</td>\n",
       "      <td>...</td>\n",
       "      <td>...</td>\n",
       "      <td>...</td>\n",
       "      <td>...</td>\n",
       "    </tr>\n",
       "    <tr>\n",
       "      <th>224821</th>\n",
       "      <td>224821</td>\n",
       "      <td>Vistara</td>\n",
       "      <td>UK-995</td>\n",
       "      <td>Delhi</td>\n",
       "      <td>Morning</td>\n",
       "      <td>one</td>\n",
       "      <td>Night</td>\n",
       "      <td>Chennai</td>\n",
       "      <td>Business</td>\n",
       "      <td>12.75</td>\n",
       "      <td>47</td>\n",
       "      <td>57992</td>\n",
       "    </tr>\n",
       "    <tr>\n",
       "      <th>224888</th>\n",
       "      <td>224888</td>\n",
       "      <td>Vistara</td>\n",
       "      <td>UK-995</td>\n",
       "      <td>Delhi</td>\n",
       "      <td>Morning</td>\n",
       "      <td>one</td>\n",
       "      <td>Evening</td>\n",
       "      <td>Chennai</td>\n",
       "      <td>Business</td>\n",
       "      <td>9.58</td>\n",
       "      <td>48</td>\n",
       "      <td>57992</td>\n",
       "    </tr>\n",
       "    <tr>\n",
       "      <th>224891</th>\n",
       "      <td>224891</td>\n",
       "      <td>Vistara</td>\n",
       "      <td>UK-995</td>\n",
       "      <td>Delhi</td>\n",
       "      <td>Morning</td>\n",
       "      <td>one</td>\n",
       "      <td>Night</td>\n",
       "      <td>Chennai</td>\n",
       "      <td>Business</td>\n",
       "      <td>12.75</td>\n",
       "      <td>48</td>\n",
       "      <td>57992</td>\n",
       "    </tr>\n",
       "    <tr>\n",
       "      <th>224956</th>\n",
       "      <td>224956</td>\n",
       "      <td>Vistara</td>\n",
       "      <td>UK-995</td>\n",
       "      <td>Delhi</td>\n",
       "      <td>Morning</td>\n",
       "      <td>one</td>\n",
       "      <td>Evening</td>\n",
       "      <td>Chennai</td>\n",
       "      <td>Business</td>\n",
       "      <td>9.58</td>\n",
       "      <td>49</td>\n",
       "      <td>57992</td>\n",
       "    </tr>\n",
       "    <tr>\n",
       "      <th>224959</th>\n",
       "      <td>224959</td>\n",
       "      <td>Vistara</td>\n",
       "      <td>UK-995</td>\n",
       "      <td>Delhi</td>\n",
       "      <td>Morning</td>\n",
       "      <td>one</td>\n",
       "      <td>Night</td>\n",
       "      <td>Chennai</td>\n",
       "      <td>Business</td>\n",
       "      <td>12.75</td>\n",
       "      <td>49</td>\n",
       "      <td>57992</td>\n",
       "    </tr>\n",
       "  </tbody>\n",
       "</table>\n",
       "<p>1024 rows × 12 columns</p>\n",
       "</div>"
      ],
      "text/plain": [
       "        Unnamed: 0  airline  flight source_city departure_time stops  \\\n",
       "3                3  Vistara  UK-995       Delhi        Morning  zero   \n",
       "153            153  Vistara  UK-995       Delhi        Morning  zero   \n",
       "255            255  Vistara  UK-995       Delhi        Morning  zero   \n",
       "407            407  Vistara  UK-995       Delhi        Morning  zero   \n",
       "580            580  Vistara  UK-995       Delhi        Morning  zero   \n",
       "...            ...      ...     ...         ...            ...   ...   \n",
       "224821      224821  Vistara  UK-995       Delhi        Morning   one   \n",
       "224888      224888  Vistara  UK-995       Delhi        Morning   one   \n",
       "224891      224891  Vistara  UK-995       Delhi        Morning   one   \n",
       "224956      224956  Vistara  UK-995       Delhi        Morning   one   \n",
       "224959      224959  Vistara  UK-995       Delhi        Morning   one   \n",
       "\n",
       "       arrival_time destination_city     class  duration  days_left  price  \n",
       "3         Afternoon           Mumbai   Economy      2.25          1   5955  \n",
       "153       Afternoon           Mumbai   Economy      2.25          2   6375  \n",
       "255       Afternoon           Mumbai   Economy      2.25          3   5955  \n",
       "407       Afternoon           Mumbai   Economy      2.25          4   5955  \n",
       "580       Afternoon           Mumbai   Economy      2.25          5   5955  \n",
       "...             ...              ...       ...       ...        ...    ...  \n",
       "224821        Night          Chennai  Business     12.75         47  57992  \n",
       "224888      Evening          Chennai  Business      9.58         48  57992  \n",
       "224891        Night          Chennai  Business     12.75         48  57992  \n",
       "224956      Evening          Chennai  Business      9.58         49  57992  \n",
       "224959        Night          Chennai  Business     12.75         49  57992  \n",
       "\n",
       "[1024 rows x 12 columns]"
      ]
     },
     "execution_count": 36,
     "metadata": {},
     "output_type": "execute_result"
    }
   ],
   "source": [
    "df[(df['airline']== 'Vistara') & (df['flight']=='UK-995')]"
   ]
  },
  {
   "cell_type": "code",
   "execution_count": 31,
   "id": "c0dee613-b23b-46f3-a948-5eb9b11a6239",
   "metadata": {
    "tags": []
   },
   "outputs": [
    {
     "data": {
      "text/html": [
       "<div>\n",
       "<style scoped>\n",
       "    .dataframe tbody tr th:only-of-type {\n",
       "        vertical-align: middle;\n",
       "    }\n",
       "\n",
       "    .dataframe tbody tr th {\n",
       "        vertical-align: top;\n",
       "    }\n",
       "\n",
       "    .dataframe thead th {\n",
       "        text-align: right;\n",
       "    }\n",
       "</style>\n",
       "<table border=\"1\" class=\"dataframe\">\n",
       "  <thead>\n",
       "    <tr style=\"text-align: right;\">\n",
       "      <th></th>\n",
       "      <th>airline</th>\n",
       "      <th>flight</th>\n",
       "      <th>source_city</th>\n",
       "      <th>departure_time</th>\n",
       "      <th>stops</th>\n",
       "      <th>arrival_time</th>\n",
       "      <th>destination_city</th>\n",
       "      <th>class</th>\n",
       "      <th>duration</th>\n",
       "      <th>days_left</th>\n",
       "      <th>price</th>\n",
       "    </tr>\n",
       "  </thead>\n",
       "  <tbody>\n",
       "    <tr>\n",
       "      <th>0</th>\n",
       "      <td>SpiceJet</td>\n",
       "      <td>SG-8709</td>\n",
       "      <td>Delhi</td>\n",
       "      <td>Evening</td>\n",
       "      <td>zero</td>\n",
       "      <td>Night</td>\n",
       "      <td>Mumbai</td>\n",
       "      <td>Economy</td>\n",
       "      <td>2.17</td>\n",
       "      <td>1</td>\n",
       "      <td>5953</td>\n",
       "    </tr>\n",
       "    <tr>\n",
       "      <th>1</th>\n",
       "      <td>SpiceJet</td>\n",
       "      <td>SG-8157</td>\n",
       "      <td>Delhi</td>\n",
       "      <td>Early_Morning</td>\n",
       "      <td>zero</td>\n",
       "      <td>Morning</td>\n",
       "      <td>Mumbai</td>\n",
       "      <td>Economy</td>\n",
       "      <td>2.33</td>\n",
       "      <td>1</td>\n",
       "      <td>5953</td>\n",
       "    </tr>\n",
       "    <tr>\n",
       "      <th>2</th>\n",
       "      <td>AirAsia</td>\n",
       "      <td>I5-764</td>\n",
       "      <td>Delhi</td>\n",
       "      <td>Early_Morning</td>\n",
       "      <td>zero</td>\n",
       "      <td>Early_Morning</td>\n",
       "      <td>Mumbai</td>\n",
       "      <td>Economy</td>\n",
       "      <td>2.17</td>\n",
       "      <td>1</td>\n",
       "      <td>5956</td>\n",
       "    </tr>\n",
       "    <tr>\n",
       "      <th>3</th>\n",
       "      <td>Vistara</td>\n",
       "      <td>UK-995</td>\n",
       "      <td>Delhi</td>\n",
       "      <td>Morning</td>\n",
       "      <td>zero</td>\n",
       "      <td>Afternoon</td>\n",
       "      <td>Mumbai</td>\n",
       "      <td>Economy</td>\n",
       "      <td>2.25</td>\n",
       "      <td>1</td>\n",
       "      <td>5955</td>\n",
       "    </tr>\n",
       "    <tr>\n",
       "      <th>4</th>\n",
       "      <td>Vistara</td>\n",
       "      <td>UK-963</td>\n",
       "      <td>Delhi</td>\n",
       "      <td>Morning</td>\n",
       "      <td>zero</td>\n",
       "      <td>Morning</td>\n",
       "      <td>Mumbai</td>\n",
       "      <td>Economy</td>\n",
       "      <td>2.33</td>\n",
       "      <td>1</td>\n",
       "      <td>5955</td>\n",
       "    </tr>\n",
       "    <tr>\n",
       "      <th>...</th>\n",
       "      <td>...</td>\n",
       "      <td>...</td>\n",
       "      <td>...</td>\n",
       "      <td>...</td>\n",
       "      <td>...</td>\n",
       "      <td>...</td>\n",
       "      <td>...</td>\n",
       "      <td>...</td>\n",
       "      <td>...</td>\n",
       "      <td>...</td>\n",
       "      <td>...</td>\n",
       "    </tr>\n",
       "    <tr>\n",
       "      <th>298090</th>\n",
       "      <td>Vistara</td>\n",
       "      <td>UK-838</td>\n",
       "      <td>Chennai</td>\n",
       "      <td>Night</td>\n",
       "      <td>one</td>\n",
       "      <td>Evening</td>\n",
       "      <td>Hyderabad</td>\n",
       "      <td>Business</td>\n",
       "      <td>22.83</td>\n",
       "      <td>2</td>\n",
       "      <td>66129</td>\n",
       "    </tr>\n",
       "    <tr>\n",
       "      <th>298091</th>\n",
       "      <td>Vistara</td>\n",
       "      <td>UK-834</td>\n",
       "      <td>Chennai</td>\n",
       "      <td>Evening</td>\n",
       "      <td>one</td>\n",
       "      <td>Morning</td>\n",
       "      <td>Hyderabad</td>\n",
       "      <td>Business</td>\n",
       "      <td>16.50</td>\n",
       "      <td>2</td>\n",
       "      <td>82784</td>\n",
       "    </tr>\n",
       "    <tr>\n",
       "      <th>298092</th>\n",
       "      <td>Vistara</td>\n",
       "      <td>UK-834</td>\n",
       "      <td>Chennai</td>\n",
       "      <td>Evening</td>\n",
       "      <td>one</td>\n",
       "      <td>Afternoon</td>\n",
       "      <td>Hyderabad</td>\n",
       "      <td>Business</td>\n",
       "      <td>19.42</td>\n",
       "      <td>2</td>\n",
       "      <td>82784</td>\n",
       "    </tr>\n",
       "    <tr>\n",
       "      <th>298093</th>\n",
       "      <td>Vistara</td>\n",
       "      <td>UK-834</td>\n",
       "      <td>Chennai</td>\n",
       "      <td>Evening</td>\n",
       "      <td>one</td>\n",
       "      <td>Evening</td>\n",
       "      <td>Hyderabad</td>\n",
       "      <td>Business</td>\n",
       "      <td>23.83</td>\n",
       "      <td>2</td>\n",
       "      <td>82784</td>\n",
       "    </tr>\n",
       "    <tr>\n",
       "      <th>298094</th>\n",
       "      <td>Vistara</td>\n",
       "      <td>UK-834</td>\n",
       "      <td>Chennai</td>\n",
       "      <td>Evening</td>\n",
       "      <td>one</td>\n",
       "      <td>Evening</td>\n",
       "      <td>Hyderabad</td>\n",
       "      <td>Business</td>\n",
       "      <td>26.75</td>\n",
       "      <td>2</td>\n",
       "      <td>82784</td>\n",
       "    </tr>\n",
       "  </tbody>\n",
       "</table>\n",
       "<p>5953 rows × 11 columns</p>\n",
       "</div>"
      ],
      "text/plain": [
       "         airline   flight source_city departure_time stops   arrival_time  \\\n",
       "0       SpiceJet  SG-8709       Delhi        Evening  zero          Night   \n",
       "1       SpiceJet  SG-8157       Delhi  Early_Morning  zero        Morning   \n",
       "2        AirAsia   I5-764       Delhi  Early_Morning  zero  Early_Morning   \n",
       "3        Vistara   UK-995       Delhi        Morning  zero      Afternoon   \n",
       "4        Vistara   UK-963       Delhi        Morning  zero        Morning   \n",
       "...          ...      ...         ...            ...   ...            ...   \n",
       "298090   Vistara   UK-838     Chennai          Night   one        Evening   \n",
       "298091   Vistara   UK-834     Chennai        Evening   one        Morning   \n",
       "298092   Vistara   UK-834     Chennai        Evening   one      Afternoon   \n",
       "298093   Vistara   UK-834     Chennai        Evening   one        Evening   \n",
       "298094   Vistara   UK-834     Chennai        Evening   one        Evening   \n",
       "\n",
       "       destination_city     class  duration  days_left  price  \n",
       "0                Mumbai   Economy      2.17          1   5953  \n",
       "1                Mumbai   Economy      2.33          1   5953  \n",
       "2                Mumbai   Economy      2.17          1   5956  \n",
       "3                Mumbai   Economy      2.25          1   5955  \n",
       "4                Mumbai   Economy      2.33          1   5955  \n",
       "...                 ...       ...       ...        ...    ...  \n",
       "298090        Hyderabad  Business     22.83          2  66129  \n",
       "298091        Hyderabad  Business     16.50          2  82784  \n",
       "298092        Hyderabad  Business     19.42          2  82784  \n",
       "298093        Hyderabad  Business     23.83          2  82784  \n",
       "298094        Hyderabad  Business     26.75          2  82784  \n",
       "\n",
       "[5953 rows x 11 columns]"
      ]
     },
     "execution_count": 31,
     "metadata": {},
     "output_type": "execute_result"
    }
   ],
   "source": [
    "last_minute_ticket"
   ]
  },
  {
   "cell_type": "code",
   "execution_count": 32,
   "id": "c683fd42-4d64-4060-a09a-beffc23438e1",
   "metadata": {},
   "outputs": [],
   "source": [
    "avg_price_last_min=last_minute_ticket['price'].mean()"
   ]
  },
  {
   "cell_type": "code",
   "execution_count": 33,
   "id": "ff7bbc21-72e0-478e-b7a2-b0010da878db",
   "metadata": {},
   "outputs": [
    {
     "data": {
      "text/plain": [
       "27421.169326390056"
      ]
     },
     "execution_count": 33,
     "metadata": {},
     "output_type": "execute_result"
    }
   ],
   "source": [
    "avg_price_last_min"
   ]
  },
  {
   "cell_type": "code",
   "execution_count": 34,
   "id": "95ba6a9c-a673-4f87-b8c1-82e458cd3996",
   "metadata": {},
   "outputs": [],
   "source": [
    "avg_price_overall= df['price'].mean()"
   ]
  },
  {
   "cell_type": "code",
   "execution_count": 35,
   "id": "1154a707-ed41-4c23-8f6a-fdbf1186760b",
   "metadata": {},
   "outputs": [
    {
     "data": {
      "text/plain": [
       "20889.660523133203"
      ]
     },
     "execution_count": 35,
     "metadata": {},
     "output_type": "execute_result"
    }
   ],
   "source": [
    "avg_price_overall"
   ]
  },
  {
   "cell_type": "code",
   "execution_count": 36,
   "id": "94c99f3f-b524-4f08-bb96-f06e9f0504e9",
   "metadata": {},
   "outputs": [
    {
     "data": {
      "text/plain": [
       "Text(0.5, 1.0, 'Comparison of Average Flight Price for Last-Minute Tickets')"
      ]
     },
     "execution_count": 36,
     "metadata": {},
     "output_type": "execute_result"
    },
    {
     "data": {
      "image/png": "[encoded data removed]",
      "text/plain": [
       "<Figure size 640x480 with 1 Axes>"
      ]
     },
     "metadata": {},
     "output_type": "display_data"
    }
   ],
   "source": [
    "sns.barplot(x=['Last Minute', 'Overall'],y=[avg_price_last_min, avg_price_overall],width=0.5,palette='BuPu',saturation=1.4)\n",
    "plt.ylabel('Average Price')\n",
    "plt.title('Comparison of Average Flight Price for Last-Minute Tickets',fontsize=12)"
   ]
  },
  {
   "cell_type": "markdown",
   "id": "d4b195e8-a417-450f-a61c-ee96bc23b6ed",
   "metadata": {
    "jp-MarkdownHeadingCollapsed": true,
    "tags": []
   },
   "source": [
    "#### From the above graph, we can conclude that:\n",
    "##### The flights overall avg ticket price are around 20000 rs but the last minute avg ticket price which were sold in just 1 or 2 days before departure are very high over 25000 rs."
   ]
  },
  {
   "cell_type": "markdown",
   "id": "c6b1df6a-6c94-47a1-89f6-491004e355ed",
   "metadata": {},
   "source": [
    "### 3) Does ticket price change based on the departure time and arrival time?"
   ]
  },
  {
   "cell_type": "code",
   "execution_count": 37,
   "id": "fe8205d5-90cd-43d6-bc56-04e3ccc3c1bc",
   "metadata": {},
   "outputs": [
    {
     "data": {
      "text/plain": [
       "departure_time\n",
       "Afternoon        18179.203331\n",
       "Early_Morning    20370.676718\n",
       "Evening          21232.361894\n",
       "Late_Night        9295.299387\n",
       "Morning          21630.760254\n",
       "Night            23062.146808\n",
       "Name: price, dtype: float64"
      ]
     },
     "execution_count": 37,
     "metadata": {},
     "output_type": "execute_result"
    }
   ],
   "source": [
    "df.groupby('departure_time')['price'].mean()"
   ]
  },
  {
   "cell_type": "code",
   "execution_count": 38,
   "id": "6cdf9595",
   "metadata": {},
   "outputs": [
    {
     "data": {
      "text/plain": [
       "arrival_time\n",
       "Afternoon        18494.598993\n",
       "Early_Morning    14993.139521\n",
       "Evening          23044.371615\n",
       "Late_Night       11284.906078\n",
       "Morning          22231.076098\n",
       "Night            21586.758341\n",
       "Name: price, dtype: float64"
      ]
     },
     "execution_count": 38,
     "metadata": {},
     "output_type": "execute_result"
    }
   ],
   "source": [
    "df.groupby('arrival_time')['price'].mean()"
   ]
  },
  {
   "cell_type": "code",
   "execution_count": 5,
   "id": "8075ca9b-f586-49b9-b19a-f97ad5cee5d6",
   "metadata": {},
   "outputs": [
    {
     "data": {
      "text/plain": [
       "Text(0.5, 1.0, 'Arrival Time vs. Ticket Price')"
      ]
     },
     "execution_count": 5,
     "metadata": {},
     "output_type": "execute_result"
    },
    {
     "data": {
      "image/png": "[encoded data removed]",
      "text/plain": [
       "<Figure size 600x1000 with 2 Axes>"
      ]
     },
     "metadata": {},
     "output_type": "display_data"
    }
   ],
   "source": [
    "plt.figure(figsize=(6,10))\n",
    "plt.subplot(2,1,1)\n",
    "sns.barplot(y='departure_time',x='price',data=df,palette='YlGnBu',saturation=1.4)\n",
    "plt.title('Departure Time vs Ticket Price')\n",
    "\n",
    "plt.subplot(2,1,2)\n",
    "sns.barplot(y='arrival_time',x='price',data=df,palette='YlGnBu',saturation=1.4)\n",
    "plt.title('Arrival Time vs. Ticket Price')"
   ]
  },
  {
   "cell_type": "markdown",
   "id": "977224b0-13b2-41b3-8199-86acba90f30d",
   "metadata": {
    "tags": []
   },
   "source": [
    "#### From the above two graps,we can see that:\n",
    "##### Flight ticket prices are lowest during late night hours and highest during the night in the Departure Time vs. Ticket Price graph\n",
    "##### In the Arrival time vs Ticket price graph, the flight ticket prices are lowest during late night hours and highest during the evening\n"
   ]
  },
  {
   "cell_type": "markdown",
   "id": "052c7b57-50ca-4932-a925-cf4c5dd53be7",
   "metadata": {},
   "source": [
    "### 4) How the price changes with change in Source and Destination?"
   ]
  },
  {
   "cell_type": "code",
   "execution_count": 40,
   "id": "2226fa01-ccaf-4aba-85ea-c7eec08b679b",
   "metadata": {},
   "outputs": [
    {
     "data": {
      "text/html": [
       "<div>\n",
       "<style scoped>\n",
       "    .dataframe tbody tr th:only-of-type {\n",
       "        vertical-align: middle;\n",
       "    }\n",
       "\n",
       "    .dataframe tbody tr th {\n",
       "        vertical-align: top;\n",
       "    }\n",
       "\n",
       "    .dataframe thead th {\n",
       "        text-align: right;\n",
       "    }\n",
       "</style>\n",
       "<table border=\"1\" class=\"dataframe\">\n",
       "  <thead>\n",
       "    <tr style=\"text-align: right;\">\n",
       "      <th></th>\n",
       "      <th>airline</th>\n",
       "      <th>flight</th>\n",
       "      <th>source_city</th>\n",
       "      <th>departure_time</th>\n",
       "      <th>stops</th>\n",
       "      <th>arrival_time</th>\n",
       "      <th>destination_city</th>\n",
       "      <th>class</th>\n",
       "      <th>duration</th>\n",
       "      <th>days_left</th>\n",
       "      <th>price</th>\n",
       "    </tr>\n",
       "  </thead>\n",
       "  <tbody>\n",
       "    <tr>\n",
       "      <th>0</th>\n",
       "      <td>SpiceJet</td>\n",
       "      <td>SG-8709</td>\n",
       "      <td>Delhi</td>\n",
       "      <td>Evening</td>\n",
       "      <td>zero</td>\n",
       "      <td>Night</td>\n",
       "      <td>Mumbai</td>\n",
       "      <td>Economy</td>\n",
       "      <td>2.17</td>\n",
       "      <td>1</td>\n",
       "      <td>5953</td>\n",
       "    </tr>\n",
       "    <tr>\n",
       "      <th>1</th>\n",
       "      <td>SpiceJet</td>\n",
       "      <td>SG-8157</td>\n",
       "      <td>Delhi</td>\n",
       "      <td>Early_Morning</td>\n",
       "      <td>zero</td>\n",
       "      <td>Morning</td>\n",
       "      <td>Mumbai</td>\n",
       "      <td>Economy</td>\n",
       "      <td>2.33</td>\n",
       "      <td>1</td>\n",
       "      <td>5953</td>\n",
       "    </tr>\n",
       "    <tr>\n",
       "      <th>2</th>\n",
       "      <td>AirAsia</td>\n",
       "      <td>I5-764</td>\n",
       "      <td>Delhi</td>\n",
       "      <td>Early_Morning</td>\n",
       "      <td>zero</td>\n",
       "      <td>Early_Morning</td>\n",
       "      <td>Mumbai</td>\n",
       "      <td>Economy</td>\n",
       "      <td>2.17</td>\n",
       "      <td>1</td>\n",
       "      <td>5956</td>\n",
       "    </tr>\n",
       "  </tbody>\n",
       "</table>\n",
       "</div>"
      ],
      "text/plain": [
       "    airline   flight source_city departure_time stops   arrival_time  \\\n",
       "0  SpiceJet  SG-8709       Delhi        Evening  zero          Night   \n",
       "1  SpiceJet  SG-8157       Delhi  Early_Morning  zero        Morning   \n",
       "2   AirAsia   I5-764       Delhi  Early_Morning  zero  Early_Morning   \n",
       "\n",
       "  destination_city    class  duration  days_left  price  \n",
       "0           Mumbai  Economy      2.17          1   5953  \n",
       "1           Mumbai  Economy      2.33          1   5953  \n",
       "2           Mumbai  Economy      2.17          1   5956  "
      ]
     },
     "execution_count": 40,
     "metadata": {},
     "output_type": "execute_result"
    }
   ],
   "source": [
    "df.head(3)"
   ]
  },
  {
   "cell_type": "code",
   "execution_count": 41,
   "id": "ed5c1a39-0959-4e72-bfa4-8ded5f3030e0",
   "metadata": {
    "tags": []
   },
   "outputs": [
    {
     "data": {
      "text/plain": [
       "source_city\n",
       "Bangalore    21469.460575\n",
       "Chennai      21995.339871\n",
       "Delhi        18951.326639\n",
       "Hyderabad    20155.623879\n",
       "Kolkata      21746.235679\n",
       "Mumbai       21483.818839\n",
       "Name: price, dtype: float64"
      ]
     },
     "execution_count": 41,
     "metadata": {},
     "output_type": "execute_result"
    }
   ],
   "source": [
    "df.groupby(['source_city'])['price'].mean()"
   ]
  },
  {
   "cell_type": "code",
   "execution_count": 42,
   "id": "960cb7e3-f063-44ef-bbcd-4c249c182304",
   "metadata": {
    "tags": []
   },
   "outputs": [
    {
     "data": {
      "text/plain": [
       "destination_city\n",
       "Bangalore    21593.955784\n",
       "Chennai      21953.323969\n",
       "Delhi        18436.767870\n",
       "Hyderabad    20427.661284\n",
       "Kolkata      21959.557556\n",
       "Mumbai       21372.529469\n",
       "Name: price, dtype: float64"
      ]
     },
     "execution_count": 42,
     "metadata": {},
     "output_type": "execute_result"
    }
   ],
   "source": [
    "df.groupby(['destination_city'])['price'].mean()"
   ]
  },
  {
   "cell_type": "code",
   "execution_count": 43,
   "id": "14bfdcda-e027-43e5-972d-7a7c9ef039bf",
   "metadata": {
    "tags": []
   },
   "outputs": [
    {
     "data": {
      "text/plain": [
       "Text(0.5, 1.0, 'destination_city vs price')"
      ]
     },
     "execution_count": 43,
     "metadata": {},
     "output_type": "execute_result"
    },
    {
     "data": {
      "image/png": "[encoded data removed]",
      "text/plain": [
       "<Figure size 600x1000 with 2 Axes>"
      ]
     },
     "metadata": {},
     "output_type": "display_data"
    }
   ],
   "source": [
    "plt.figure(figsize=(6,10))\n",
    "plt.subplot(2,1,1)\n",
    "sns.barplot(y='source_city',x='price',data=df,palette='Set1')\n",
    "plt.title('Source_city vs price')\n",
    "plt.subplot(2,1,2)\n",
    "sns.barplot(y='destination_city',x='price',data=df,palette='Set1')\n",
    "plt.title('destination_city vs price')"
   ]
  },
  {
   "cell_type": "markdown",
   "id": "10c2f273-605d-4843-9e0e-ac6e743491b4",
   "metadata": {},
   "source": [
    "#### From the above both graphs, we can see that:\n",
    "##### \"Here we can see in both graphs, as a source and destination city, the average flight ticket price for Chennai is very high (around 22,000 INR), while Delhi's average flight ticket price is very low (around 19,000 INR) compared to other source and destination cities.\""
   ]
  },
  {
   "cell_type": "markdown",
   "id": "f8e641fb-7a59-4b64-b960-3f50c42d544e",
   "metadata": {},
   "source": [
    "### 5) How does the ticket price vary between Economy and Business class?"
   ]
  },
  {
   "cell_type": "code",
   "execution_count": 44,
   "id": "6f1a4199-4d1b-449e-86cd-ae268ee4d117",
   "metadata": {
    "tags": []
   },
   "outputs": [
    {
     "data": {
      "text/plain": [
       "class\n",
       "Business    52540.081124\n",
       "Economy      6572.342383\n",
       "Name: price, dtype: float64"
      ]
     },
     "execution_count": 44,
     "metadata": {},
     "output_type": "execute_result"
    }
   ],
   "source": [
    "df.groupby('class')['price'].mean()"
   ]
  },
  {
   "cell_type": "code",
   "execution_count": 45,
   "id": "55fa2655-60fc-4c06-bff8-c54c64c8dde0",
   "metadata": {},
   "outputs": [
    {
     "data": {
      "text/plain": [
       "Text(0.5, 1.0, 'The ticket price vary between Economy and Business class')"
      ]
     },
     "execution_count": 45,
     "metadata": {},
     "output_type": "execute_result"
    },
    {
     "data": {
      "image/png": "[encoded data removed]",
      "text/plain": [
       "<Figure size 640x480 with 1 Axes>"
      ]
     },
     "metadata": {},
     "output_type": "display_data"
    }
   ],
   "source": [
    "sns.barplot(x='class',y='price',data=df,palette='YlGn_r',saturation=1.4,width=0.7)\n",
    "plt.title('The ticket price vary between Economy and Business class',fontsize=15)"
   ]
  },
  {
   "cell_type": "markdown",
   "id": "776e2dbf-ad5f-478c-b794-a0f4fae1f6ec",
   "metadata": {},
   "source": [
    "#### From the above graph , we can see that:\n",
    "##### Here business class average ticket price is much higher(over 50000) than economy class (below 10000)."
   ]
  },
  {
   "cell_type": "markdown",
   "id": "3f0a4d7a-4a4c-4873-85d9-c3b87cbf2291",
   "metadata": {},
   "source": [
    "#### 6) How does stops column affect ticket price? "
   ]
  },
  {
   "cell_type": "code",
   "execution_count": 46,
   "id": "0ddad254-a6fc-4ca9-bb3a-a41279d82467",
   "metadata": {},
   "outputs": [
    {
     "data": {
      "text/plain": [
       "stops\n",
       "one            22900.992482\n",
       "two_or_more    14113.450775\n",
       "zero            9375.938535\n",
       "Name: price, dtype: float64"
      ]
     },
     "execution_count": 46,
     "metadata": {},
     "output_type": "execute_result"
    }
   ],
   "source": [
    "df.groupby('stops')['price'].mean()"
   ]
  },
  {
   "cell_type": "code",
   "execution_count": 47,
   "id": "ce6b75dc-af3c-4de0-addc-79475d4b1c29",
   "metadata": {},
   "outputs": [
    {
     "data": {
      "text/plain": [
       "<Axes: xlabel='stops', ylabel='price'>"
      ]
     },
     "execution_count": 47,
     "metadata": {},
     "output_type": "execute_result"
    },
    {
     "data": {
      "image/png": "[encoded data removed]",
      "text/plain": [
       "<Figure size 640x480 with 1 Axes>"
      ]
     },
     "metadata": {},
     "output_type": "display_data"
    }
   ],
   "source": [
    "sns.barplot(x='stops',y='price',data=df)"
   ]
  },
  {
   "cell_type": "markdown",
   "id": "78da1288-8448-4a18-b064-362648c97450",
   "metadata": {
    "jp-MarkdownHeadingCollapsed": true,
    "tags": []
   },
   "source": [
    "#### From the above graph, we can see that:\n",
    "##### The flights those were taking one stop between the source and destination cities have higher ticket prices over 20000 rs.\n",
    "##### The flights those were taking zero stop between the source and destination cities have lowest ticket prices around 10000 rs."
   ]
  },
  {
   "cell_type": "markdown",
   "id": "45d33eed-3df5-43df-b305-12e371386099",
   "metadata": {},
   "source": [
    "### 7) Do flight durations play a significant role in ticket pricing, and if so, what is the nature of this relationship?"
   ]
  },
  {
   "cell_type": "code",
   "execution_count": 4,
   "id": "386f1a26-ba6e-4db4-94ce-b39261b0ceef",
   "metadata": {},
   "outputs": [
    {
     "data": {
      "text/plain": [
       "0.20422236784542758"
      ]
     },
     "execution_count": 4,
     "metadata": {},
     "output_type": "execute_result"
    }
   ],
   "source": [
    "df['duration'].corr(df['price'])"
   ]
  },
  {
   "cell_type": "code",
   "execution_count": 5,
   "id": "278872c6-215d-4017-9928-50e4cb060e97",
   "metadata": {},
   "outputs": [
    {
     "data": {
      "text/plain": [
       "<Axes: xlabel='duration', ylabel='price'>"
      ]
     },
     "execution_count": 5,
     "metadata": {},
     "output_type": "execute_result"
    },
    {
     "data": {
      "image/png": "[encoded data removed]",
      "text/plain": [
       "<Figure size 640x480 with 1 Axes>"
      ]
     },
     "metadata": {},
     "output_type": "display_data"
    }
   ],
   "source": [
    "sns.scatterplot(x='duration',y='price',data=df)"
   ]
  },
  {
   "cell_type": "markdown",
   "id": "73ef0bc5-59a5-4091-bb7e-5b83ec531d41",
   "metadata": {},
   "source": [
    "#### From the above graph, we can see:\n",
    "##### Here flight duration do not play a significant role in ticket pricing and we can't see any correlation between price and duration."
   ]
  },
  {
   "cell_type": "markdown",
   "id": "d8d9f98c-0871-4549-b83d-e0e6acf5ea18",
   "metadata": {},
   "source": [
    "#### 8) What is the overall distribution of prices in the dataset?"
   ]
  },
  {
   "cell_type": "code",
   "execution_count": 37,
   "id": "af823f4e-df13-47e9-84ca-9139c365212a",
   "metadata": {},
   "outputs": [
    {
     "data": {
      "text/plain": [
       "count    300153.000000\n",
       "mean      20889.660523\n",
       "std       22697.767366\n",
       "min        1105.000000\n",
       "25%        4783.000000\n",
       "50%        7425.000000\n",
       "75%       42521.000000\n",
       "max      123071.000000\n",
       "Name: price, dtype: float64"
      ]
     },
     "execution_count": 37,
     "metadata": {},
     "output_type": "execute_result"
    }
   ],
   "source": [
    "df['price'].describe()"
   ]
  },
  {
   "cell_type": "code",
   "execution_count": 32,
   "id": "dbe26ff5-37df-40d9-b310-c5c1e6e84418",
   "metadata": {
    "collapsed": true,
    "jupyter": {
     "outputs_hidden": true,
     "source_hidden": true
    },
    "tags": []
   },
   "outputs": [
    {
     "data": {
      "text/plain": [
       "1105"
      ]
     },
     "execution_count": 32,
     "metadata": {},
     "output_type": "execute_result"
    }
   ],
   "source": [
    "df['price'].min()"
   ]
  },
  {
   "cell_type": "code",
   "execution_count": 30,
   "id": "4fead5d6-446a-45ec-86f5-b461c63127f6",
   "metadata": {
    "collapsed": true,
    "jupyter": {
     "outputs_hidden": true,
     "source_hidden": true
    },
    "tags": []
   },
   "outputs": [
    {
     "data": {
      "text/plain": [
       "Unnamed: 0          205349\n",
       "airline             205349\n",
       "flight              205349\n",
       "source_city         205349\n",
       "departure_time      205349\n",
       "stops               205349\n",
       "arrival_time        205349\n",
       "destination_city    205349\n",
       "class               205349\n",
       "duration            205349\n",
       "days_left           205349\n",
       "price               205349\n",
       "dtype: int64"
      ]
     },
     "execution_count": 30,
     "metadata": {},
     "output_type": "execute_result"
    }
   ],
   "source": [
    "df[(df['price']>= 1105) & (df['price']<= 20000)].count()"
   ]
  },
  {
   "cell_type": "code",
   "execution_count": 28,
   "id": "a5a5f103-6586-45e4-98c9-57058448bd57",
   "metadata": {},
   "outputs": [
    {
     "name": "stderr",
     "output_type": "stream",
     "text": [
      "C:\\Users\\prodi\\AppData\\Local\\Temp\\ipykernel_10508\\444587821.py:1: UserWarning: \n",
      "\n",
      "`distplot` is a deprecated function and will be removed in seaborn v0.14.0.\n",
      "\n",
      "Please adapt your code to use either `displot` (a figure-level function with\n",
      "similar flexibility) or `histplot` (an axes-level function for histograms).\n",
      "\n",
      "For a guide to updating your code to use the new functions, please see\n",
      "https://gist.github.com/mwaskom/de44147ed2974457ad6372750bbe5751\n",
      "\n",
      "  sns.distplot(df['price'])\n"
     ]
    },
    {
     "data": {
      "text/plain": [
       "<Axes: xlabel='price', ylabel='Density'>"
      ]
     },
     "execution_count": 28,
     "metadata": {},
     "output_type": "execute_result"
    },
    {
     "data": {
      "image/png": "[encoded data removed]",
      "text/plain": [
       "<Figure size 640x480 with 1 Axes>"
      ]
     },
     "metadata": {},
     "output_type": "display_data"
    }
   ],
   "source": [
    "sns.distplot(df['price'])"
   ]
  },
  {
   "cell_type": "markdown",
   "id": "809ce89d-052e-4acd-92ae-48be7ef3e0d7",
   "metadata": {},
   "source": [
    "* Here, we can see that most travelers flight ticket prices came between 1105 rs to under 20000 rs."
   ]
  },
  {
   "cell_type": "markdown",
   "id": "fc97ea76-fcb6-46c2-8995-ba0f2b0f5975",
   "metadata": {},
   "source": [
    "### 9)Are there any outliers in the price column that significantly affect the analysis?"
   ]
  },
  {
   "cell_type": "code",
   "execution_count": 10,
   "id": "06566714-77d2-4807-b80b-8f304e3d4f8f",
   "metadata": {},
   "outputs": [
    {
     "data": {
      "text/html": [
       "<div>\n",
       "<style scoped>\n",
       "    .dataframe tbody tr th:only-of-type {\n",
       "        vertical-align: middle;\n",
       "    }\n",
       "\n",
       "    .dataframe tbody tr th {\n",
       "        vertical-align: top;\n",
       "    }\n",
       "\n",
       "    .dataframe thead th {\n",
       "        text-align: right;\n",
       "    }\n",
       "</style>\n",
       "<table border=\"1\" class=\"dataframe\">\n",
       "  <thead>\n",
       "    <tr style=\"text-align: right;\">\n",
       "      <th></th>\n",
       "      <th>Unnamed: 0</th>\n",
       "      <th>airline</th>\n",
       "      <th>flight</th>\n",
       "      <th>source_city</th>\n",
       "      <th>departure_time</th>\n",
       "      <th>stops</th>\n",
       "      <th>arrival_time</th>\n",
       "      <th>destination_city</th>\n",
       "      <th>class</th>\n",
       "      <th>duration</th>\n",
       "      <th>days_left</th>\n",
       "      <th>price</th>\n",
       "    </tr>\n",
       "  </thead>\n",
       "  <tbody>\n",
       "    <tr>\n",
       "      <th>0</th>\n",
       "      <td>0</td>\n",
       "      <td>SpiceJet</td>\n",
       "      <td>SG-8709</td>\n",
       "      <td>Delhi</td>\n",
       "      <td>Evening</td>\n",
       "      <td>zero</td>\n",
       "      <td>Night</td>\n",
       "      <td>Mumbai</td>\n",
       "      <td>Economy</td>\n",
       "      <td>2.17</td>\n",
       "      <td>1</td>\n",
       "      <td>5953</td>\n",
       "    </tr>\n",
       "    <tr>\n",
       "      <th>1</th>\n",
       "      <td>1</td>\n",
       "      <td>SpiceJet</td>\n",
       "      <td>SG-8157</td>\n",
       "      <td>Delhi</td>\n",
       "      <td>Early_Morning</td>\n",
       "      <td>zero</td>\n",
       "      <td>Morning</td>\n",
       "      <td>Mumbai</td>\n",
       "      <td>Economy</td>\n",
       "      <td>2.33</td>\n",
       "      <td>1</td>\n",
       "      <td>5953</td>\n",
       "    </tr>\n",
       "    <tr>\n",
       "      <th>2</th>\n",
       "      <td>2</td>\n",
       "      <td>AirAsia</td>\n",
       "      <td>I5-764</td>\n",
       "      <td>Delhi</td>\n",
       "      <td>Early_Morning</td>\n",
       "      <td>zero</td>\n",
       "      <td>Early_Morning</td>\n",
       "      <td>Mumbai</td>\n",
       "      <td>Economy</td>\n",
       "      <td>2.17</td>\n",
       "      <td>1</td>\n",
       "      <td>5956</td>\n",
       "    </tr>\n",
       "  </tbody>\n",
       "</table>\n",
       "</div>"
      ],
      "text/plain": [
       "   Unnamed: 0   airline   flight source_city departure_time stops  \\\n",
       "0           0  SpiceJet  SG-8709       Delhi        Evening  zero   \n",
       "1           1  SpiceJet  SG-8157       Delhi  Early_Morning  zero   \n",
       "2           2   AirAsia   I5-764       Delhi  Early_Morning  zero   \n",
       "\n",
       "    arrival_time destination_city    class  duration  days_left  price  \n",
       "0          Night           Mumbai  Economy      2.17          1   5953  \n",
       "1        Morning           Mumbai  Economy      2.33          1   5953  \n",
       "2  Early_Morning           Mumbai  Economy      2.17          1   5956  "
      ]
     },
     "execution_count": 10,
     "metadata": {},
     "output_type": "execute_result"
    }
   ],
   "source": [
    "df.head(3)"
   ]
  },
  {
   "cell_type": "code",
   "execution_count": 12,
   "id": "9be3f569-eb86-4e02-b312-5ea1658c3cf8",
   "metadata": {},
   "outputs": [
    {
     "data": {
      "text/plain": [
       "Text(0.5, 1.0, 'Boxplot of Flight Ticket Prices')"
      ]
     },
     "execution_count": 12,
     "metadata": {},
     "output_type": "execute_result"
    },
    {
     "data": {
      "image/png": "[encoded data removed]",
      "text/plain": [
       "<Figure size 640x480 with 1 Axes>"
      ]
     },
     "metadata": {},
     "output_type": "display_data"
    }
   ],
   "source": [
    "sns.boxplot(df['price'])\n",
    "plt.title('Boxplot of Flight Ticket Prices')"
   ]
  },
  {
   "cell_type": "markdown",
   "id": "4f40a49b-e473-4741-be4d-16a6caa76b74",
   "metadata": {},
   "source": [
    "* Here, we can see multiple outliers are present in the price column that significantly affect the analysis."
   ]
  },
  {
   "cell_type": "markdown",
   "id": "de836d3c-8ebf-4d39-b1fb-c73a363ee8ae",
   "metadata": {},
   "source": [
    "### 10. Can we identify any specific combinations of factors (e.g., airline, class, stops) that consistently lead to higher or lower ticket prices?"
   ]
  },
  {
   "cell_type": "code",
   "execution_count": 15,
   "id": "97526a9e-30b5-4176-b56e-f90b86133ce9",
   "metadata": {},
   "outputs": [
    {
     "data": {
      "text/plain": [
       "<Axes: xlabel='class-stops', ylabel='airline'>"
      ]
     },
     "execution_count": 15,
     "metadata": {},
     "output_type": "execute_result"
    },
    {
     "data": {
      "image/png": "[encoded data removed]",
      "text/plain": [
       "<Figure size 640x480 with 2 Axes>"
      ]
     },
     "metadata": {},
     "output_type": "display_data"
    }
   ],
   "source": [
    "heatmap_data = df.pivot_table(index='airline', columns=['class', 'stops'], values='price', aggfunc='mean')\n",
    "sns.heatmap(heatmap_data, cmap='viridis', annot=True, fmt='g', linewidths=.5)"
   ]
  },
  {
   "cell_type": "code",
   "execution_count": 17,
   "id": "9d2b82dc-5e04-48b6-a059-f34e8d6e00f0",
   "metadata": {
    "collapsed": true,
    "jupyter": {
     "outputs_hidden": true,
     "source_hidden": true
    },
    "tags": []
   },
   "outputs": [
    {
     "data": {
      "text/html": [
       "<div>\n",
       "<style scoped>\n",
       "    .dataframe tbody tr th:only-of-type {\n",
       "        vertical-align: middle;\n",
       "    }\n",
       "\n",
       "    .dataframe tbody tr th {\n",
       "        vertical-align: top;\n",
       "    }\n",
       "\n",
       "    .dataframe thead th {\n",
       "        text-align: right;\n",
       "    }\n",
       "</style>\n",
       "<table border=\"1\" class=\"dataframe\">\n",
       "  <thead>\n",
       "    <tr style=\"text-align: right;\">\n",
       "      <th></th>\n",
       "      <th>Unnamed: 0</th>\n",
       "      <th>airline</th>\n",
       "      <th>flight</th>\n",
       "      <th>source_city</th>\n",
       "      <th>departure_time</th>\n",
       "      <th>stops</th>\n",
       "      <th>arrival_time</th>\n",
       "      <th>destination_city</th>\n",
       "      <th>class</th>\n",
       "      <th>duration</th>\n",
       "      <th>days_left</th>\n",
       "      <th>price</th>\n",
       "    </tr>\n",
       "  </thead>\n",
       "  <tbody>\n",
       "  </tbody>\n",
       "</table>\n",
       "</div>"
      ],
      "text/plain": [
       "Empty DataFrame\n",
       "Columns: [Unnamed: 0, airline, flight, source_city, departure_time, stops, arrival_time, destination_city, class, duration, days_left, price]\n",
       "Index: []"
      ]
     },
     "execution_count": 17,
     "metadata": {},
     "output_type": "execute_result"
    }
   ],
   "source": [
    "df[(df['class']=='Business')& (df['stops']=='one') & (df['airline']=='Indigo')]"
   ]
  },
  {
   "cell_type": "markdown",
   "id": "756ea6cc-5441-4bd2-b3bb-0a2df10affa8",
   "metadata": {},
   "source": [
    "### From the above graph, we can see:\n",
    "##### Business class flights with two or more stops from Vistara Airlines have the highest ticket prices. Conversely, economy class flights with zero stops from GO_FIRST airline have the lowest ticket prices."
   ]
  },
  {
   "cell_type": "code",
   "execution_count": null,
   "id": "e80a3031-ef41-4baa-8bed-b48ac8d35356",
   "metadata": {},
   "outputs": [],
   "source": []
  }
 ],
 "metadata": {
  "kernelspec": {
   "display_name": "Python 3 (ipykernel)",
   "language": "python",
   "name": "python3"
  },
  "language_info": {
   "codemirror_mode": {
    "name": "ipython",
    "version": 3
   },
   "file_extension": ".py",
   "mimetype": "text/x-python",
   "name": "python",
   "nbconvert_exporter": "python",
   "pygments_lexer": "ipython3",
   "version": "3.10.9"
  }
 },
 "nbformat": 4,
 "nbformat_minor": 5
}
